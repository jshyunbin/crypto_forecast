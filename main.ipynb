{
 "cells": [
  {
   "cell_type": "markdown",
   "id": "48d60260",
   "metadata": {},
   "source": [
    "# PatchTST with Etherium (& more)\n",
    "\n",
    "We will gather Etherium, Bitcoin, NASDAQ 100(^NDX), CBOE Interest Rate 10 Year T No (^TNX), KOSPI Composite Index (^KS11), Nikkei 225 (^N225)"
   ]
  },
  {
   "cell_type": "code",
   "execution_count": null,
   "id": "304a5f76",
   "metadata": {},
   "outputs": [],
   "source": [
    "import yfinance\n",
    "import pandas as pd\n",
    "import numpy as np\n",
    "import matplotlib.pyplot as plt\n",
    "\n",
    "\n"
   ]
  },
  {
   "cell_type": "code",
   "execution_count": null,
   "id": "23f59914",
   "metadata": {},
   "outputs": [],
   "source": []
  }
 ],
 "metadata": {
  "kernelspec": {
   "display_name": ".venv",
   "language": "python",
   "name": "python3"
  },
  "language_info": {
   "name": "python",
   "version": "3.12.3"
  }
 },
 "nbformat": 4,
 "nbformat_minor": 5
}
